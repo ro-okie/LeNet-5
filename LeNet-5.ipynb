{
  "nbformat": 4,
  "nbformat_minor": 0,
  "metadata": {
    "colab": {
      "provenance": [],
      "authorship_tag": "ABX9TyOkbB5agx8IDxXRqWRU2eP6",
      "include_colab_link": true
    },
    "kernelspec": {
      "name": "python3",
      "display_name": "Python 3"
    },
    "language_info": {
      "name": "python"
    },
    "accelerator": "GPU"
  },
  "cells": [
    {
      "cell_type": "markdown",
      "metadata": {
        "id": "view-in-github",
        "colab_type": "text"
      },
      "source": [
        "<a href=\"https://colab.research.google.com/github/ro-okie/LeNet-5/blob/main/LeNet-5.ipynb\" target=\"_parent\"><img src=\"https://colab.research.google.com/assets/colab-badge.svg\" alt=\"Open In Colab\"/></a>"
      ]
    },
    {
      "cell_type": "code",
      "execution_count": 3,
      "metadata": {
        "colab": {
          "base_uri": "https://localhost:8080/"
        },
        "id": "i5BVZ79GpyuO",
        "outputId": "08457676-bcd5-4bce-b78f-df2e36b4640e"
      },
      "outputs": [
        {
          "output_type": "stream",
          "name": "stdout",
          "text": [
            "cuda\n"
          ]
        }
      ],
      "source": [
        "#importing relevant libraries\n",
        "import torch\n",
        "import torch.nn as nn\n",
        "import torchvision\n",
        "import torchvision.transforms as transforms\n",
        "\n",
        "#defining relevant variables\n",
        "batch_size = 64\n",
        "learning_rate = 0.001\n",
        "num_classes = 10\n",
        "num_epochs = 10\n",
        "\n",
        "device = torch.device('cuda' if torch.cuda.is_available() else 'cpu')\n",
        "print(device.type)"
      ]
    },
    {
      "cell_type": "code",
      "source": [
        "#  downloading the dataset, and applying transformation\n",
        "#  initially MNIST dataset is of grayscale images and of size (28x28)\n",
        "train_dataset = torchvision.datasets.MNIST(root='./data',train = True ,transform = transforms.Compose([\n",
        "                                                  transforms.Resize((32,32)),\n",
        "                                                  transforms.ToTensor(),\n",
        "                                                  transforms.Normalize(mean = (0.1307,), std = (0.3081,))]), download = True)\n",
        "test_dataset = torchvision.datasets.MNIST(root='./data',train = False, transform = transforms.Compose([\n",
        "                                                  transforms.Resize((32,32)),\n",
        "                                                  transforms.ToTensor(),\n",
        "                                                  transforms.Normalize(mean = (0.1307,), std = (0.3081,))]), download = True)"
      ],
      "metadata": {
        "id": "jQOHmHGDqUl9"
      },
      "execution_count": 4,
      "outputs": []
    },
    {
      "cell_type": "code",
      "source": [
        "# defining train_loader and test_loader\n",
        "from torch.utils.data import DataLoader\n",
        "train_loader = DataLoader(dataset = train_dataset, batch_size = batch_size,shuffle=True)\n",
        "test_loader = DataLoader(dataset = test_dataset, batch_size = batch_size, shuffle = True)"
      ],
      "metadata": {
        "id": "AcKQD_DlrIu6"
      },
      "execution_count": 5,
      "outputs": []
    },
    {
      "cell_type": "code",
      "source": [
        "# defining our Convolutional Neural Net architecture\n",
        "class LeNet5(nn.Module):\n",
        "  def __init__(self, num_classes):\n",
        "    super().__init__()\n",
        "    self.conv1 = nn.Sequential(\n",
        "        nn.Conv2d(1, 6, kernel_size = 5),\n",
        "        nn.BatchNorm2d(6), # using BatchNorm2d(args: input_channels)\n",
        "        nn.ReLU(),\n",
        "        nn.MaxPool2d(kernel_size = 2, stride = 2)\n",
        "    )\n",
        "    self.conv2 = nn.Sequential(\n",
        "        nn.Conv2d(6, 16, kernel_size = 5),\n",
        "        nn.BatchNorm2d(16),\n",
        "        nn.ReLU(),\n",
        "        nn.MaxPool2d(kernel_size = 2, stride = 2)\n",
        "    )\n",
        "\n",
        "    self.fc1 = nn.Linear(400,120)\n",
        "    self.relu1 = nn.ReLU()\n",
        "    self.fc2 = nn.Linear(120,84)\n",
        "    self.relu2 = nn.ReLU()\n",
        "    self.fc3 = nn.Linear(84,num_classes)\n",
        "\n",
        "  def forward(self, x):\n",
        "    out = self.conv1(x)\n",
        "    out = self.conv2(out)\n",
        "    out = out.reshape(out.size(0),-1)\n",
        "    out = self.fc1(out)\n",
        "    out = self.relu1(out)\n",
        "    out = self.fc2(out)\n",
        "    out = self.relu2(out)\n",
        "    out = self.fc3(out)\n",
        "    return out\n",
        "\n",
        "\n"
      ],
      "metadata": {
        "id": "ymtD1tQizWDG"
      },
      "execution_count": 16,
      "outputs": []
    },
    {
      "cell_type": "code",
      "source": [
        "# defining the hyperparameters\n",
        "\n",
        "model = LeNet5(num_classes)\n",
        "\n",
        "if(device == 'cuda'):\n",
        "    model.cuda()\n",
        "\n",
        "#defining our loss function\n",
        "loss_fn = nn.CrossEntropyLoss()\n",
        "\n",
        "#defining our optimizer\n",
        "optimizer = torch.optim.Adam(model.parameters(), lr= learning_rate)\n",
        "\n",
        "# will use this when calculating accuracy\n",
        "total_step = len(train_loader)"
      ],
      "metadata": {
        "id": "UjiLVg9c5AQ2"
      },
      "execution_count": 17,
      "outputs": []
    },
    {
      "cell_type": "code",
      "source": [
        "for epoch in range(num_epochs):\n",
        "  for i, (images, labels) in enumerate(train_loader):\n",
        "    \n",
        "    if(device=='cuda'):\n",
        "      images.to(device)\n",
        "      labels.to(device)\n",
        "\n",
        "    # forward pass\n",
        "\n",
        "    output = model(images)\n",
        "    loss = loss_fn(output, labels)\n",
        "\n",
        "    # backward pass and optimizer\n",
        "    loss.backward()\n",
        "    optimizer.step()\n",
        "    optimizer.zero_grad()\n",
        "\n",
        "\n",
        "    if (i+1) % 400 == 0:\n",
        "            print ('Epoch [{}/{}], Step [{}/{}], Loss: {:.4f}' \n",
        "        \t\t           .format(epoch+1, num_epochs, i+1, total_step, loss.item()))\n",
        "\n",
        "  "
      ],
      "metadata": {
        "colab": {
          "base_uri": "https://localhost:8080/"
        },
        "id": "RXGM8tJ56AZy",
        "outputId": "475a9224-1ac7-439b-8d3c-516aa5bb1767"
      },
      "execution_count": 18,
      "outputs": [
        {
          "output_type": "stream",
          "name": "stdout",
          "text": [
            "Epoch [1/10], Step [400/938], Loss: 0.0219\n",
            "Epoch [1/10], Step [800/938], Loss: 0.0266\n",
            "Epoch [2/10], Step [400/938], Loss: 0.0209\n",
            "Epoch [2/10], Step [800/938], Loss: 0.0177\n",
            "Epoch [3/10], Step [400/938], Loss: 0.0138\n",
            "Epoch [3/10], Step [800/938], Loss: 0.0243\n",
            "Epoch [4/10], Step [400/938], Loss: 0.0741\n",
            "Epoch [4/10], Step [800/938], Loss: 0.0305\n",
            "Epoch [5/10], Step [400/938], Loss: 0.0077\n",
            "Epoch [5/10], Step [800/938], Loss: 0.0067\n",
            "Epoch [6/10], Step [400/938], Loss: 0.0046\n",
            "Epoch [6/10], Step [800/938], Loss: 0.0011\n",
            "Epoch [7/10], Step [400/938], Loss: 0.0221\n",
            "Epoch [7/10], Step [800/938], Loss: 0.0594\n",
            "Epoch [8/10], Step [400/938], Loss: 0.0034\n",
            "Epoch [8/10], Step [800/938], Loss: 0.0296\n",
            "Epoch [9/10], Step [400/938], Loss: 0.1219\n",
            "Epoch [9/10], Step [800/938], Loss: 0.0007\n",
            "Epoch [10/10], Step [400/938], Loss: 0.0002\n",
            "Epoch [10/10], Step [800/938], Loss: 0.0045\n"
          ]
        }
      ]
    },
    {
      "cell_type": "code",
      "source": [
        "# testing our model on test_set\n",
        "with torch.no_grad():\n",
        "  correct = 0\n",
        "  total = 0\n",
        "  for images, labels in test_loader:\n",
        "\n",
        "    if(device=='cuda'):\n",
        "      images.to(device)\n",
        "      labels.to(device)\n",
        "    \n",
        "    output = model(images)\n",
        "\n",
        "    _, predictedLabel = torch.max(output.data, 1) # (args: data, dimension)\n",
        "    \n",
        "    total += labels.size(0)\n",
        "    correct += (predictedLabel == labels).sum().item()\n",
        "\n",
        "  print('Accuracy of the network on the 10000 test images: {} %'.format(100 * correct / total))\n",
        "\t \n",
        "\n"
      ],
      "metadata": {
        "colab": {
          "base_uri": "https://localhost:8080/"
        },
        "id": "NmrJdb-i7I8h",
        "outputId": "f5c19ca0-2c2a-4abe-c866-3673a9aca8c5"
      },
      "execution_count": 20,
      "outputs": [
        {
          "output_type": "stream",
          "name": "stdout",
          "text": [
            "Accuracy of the network on the 10000 test images: 99.02 %\n"
          ]
        }
      ]
    },
    {
      "cell_type": "code",
      "source": [
        " # Accuracy of the network on the 10000 test images: 99.02 % :- which quite a good result with initial choice of hyperparameters "
      ],
      "metadata": {
        "id": "BcrLsAzC9bvh"
      },
      "execution_count": 21,
      "outputs": []
    }
  ]
}